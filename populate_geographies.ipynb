{
 "cells": [
  {
   "cell_type": "code",
   "execution_count": null,
   "id": "31e01af1",
   "metadata": {},
   "outputs": [],
   "source": [
    "import pandas as pd\n",
    "import pyodbc\n",
    "from datetime import datetime \n",
    "from sqlalchemy import create_engine\n",
    "\n",
    "# odczytuję dane z pliku csv \n",
    "economist_country_codes = pd.read_csv('data/economist_country_codes0.csv',sep=';|\\|',engine='python')\n",
    "economist_country_codes = economist_country_codes.sort_values('COUNTRY',ignore_index=True) # posortowane lepiej wygląda\n",
    "\n",
    "# dodaję potrzebne kolumny zdefiniowane \n",
    "economist_country_codes['geography_id'] = economist_country_codes.index+1 # chcę żeby geography_id zaczynało się od 1\n",
    "economist_country_codes['valid_from'] = datetime.today().strftime('%Y-%m-%d')\n",
    "economist_country_codes['valid_to'] = '9999-01-01'\n",
    "economist_country_codes['active'] = 1 \n",
    "\n",
    "# zmiana nazw i kolejności kolum żeby pasowały do nadanych w docelowej tabeli\n",
    "economist_country_codes.columns=['country_name', 'country_code', 'region', 'geography_id', 'valid_from', 'valid_to','active']\n",
    "economist_country_codes = economist_country_codes[['geography_id','country_code','country_name','region','valid_from','valid_to','active']]\n",
    "\n",
    "# ustanawiam połączenie z bazą\n",
    "SERVER = 'bigmacindex.database.windows.net'\n",
    "DATABASE = 'bigmacindex'\n",
    "DRIVER = 'ODBC Driver 17 for SQL Server'\n",
    "\n",
    "# docelowo folder z credentialami nie byłby ogólno dostępny, ale chciałem żeby skrypt można było uruchomić \n",
    "with open('creds/data_writer_creds.txt','r') as f:\n",
    "    creds = [line.strip() for line in f.readlines()]\n",
    "\n",
    "USERNAME = creds[0] \n",
    "PASSWORD = creds[1] \n",
    "\n",
    "\n",
    "DATABASE_CONNECTION = f'mssql://{USERNAME}:{PASSWORD}@{SERVER}/{DATABASE}?driver={DRIVER}'\n",
    "\n",
    "engine = create_engine(DATABASE_CONNECTION)\n",
    "connection = engine.connect()\n",
    "\n",
    "\n",
    "# ładuje dane do tabeli geographies\n",
    "economist_country_codes.to_sql(name='geographies',con=connection,if_exists='append', index=False)\n",
    "\n",
    "connection.close()"
   ]
  }
 ],
 "metadata": {
  "kernelspec": {
   "display_name": "Python 3 (ipykernel)",
   "language": "python",
   "name": "python3"
  },
  "language_info": {
   "codemirror_mode": {
    "name": "ipython",
    "version": 3
   },
   "file_extension": ".py",
   "mimetype": "text/x-python",
   "name": "python",
   "nbconvert_exporter": "python",
   "pygments_lexer": "ipython3",
   "version": "3.9.7"
  }
 },
 "nbformat": 4,
 "nbformat_minor": 5
}
